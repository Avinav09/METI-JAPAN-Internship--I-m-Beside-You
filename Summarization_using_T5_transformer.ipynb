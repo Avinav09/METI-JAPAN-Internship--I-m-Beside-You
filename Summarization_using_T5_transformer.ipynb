{
  "nbformat": 4,
  "nbformat_minor": 0,
  "metadata": {
    "colab": {
      "name": "Summarization using T5 transformer",
      "provenance": []
    },
    "kernelspec": {
      "display_name": "Python 3",
      "name": "python3"
    }
  },
  "cells": [
    {
      "cell_type": "code",
      "metadata": {
        "colab": {
          "base_uri": "https://localhost:8080/"
        },
        "id": "TnzBr3xLUADA",
        "outputId": "97a7e5b2-09f8-4700-e225-fcf10a20d65c"
      },
      "source": [
        "!pip install torch==1.7.0"
      ],
      "execution_count": 1,
      "outputs": [
        {
          "output_type": "stream",
          "text": [
            "Collecting torch==1.7.0\n",
            "  Using cached https://files.pythonhosted.org/packages/80/2a/58f8078744e0408619c63148f7a2e8e48cf007e4146b74d4bb67c56d161b/torch-1.7.0-cp36-cp36m-manylinux1_x86_64.whl\n",
            "Requirement already satisfied: typing-extensions in /usr/local/lib/python3.6/dist-packages (from torch==1.7.0) (3.7.4.3)\n",
            "Requirement already satisfied: dataclasses in /usr/local/lib/python3.6/dist-packages (from torch==1.7.0) (0.8)\n",
            "Requirement already satisfied: numpy in /usr/local/lib/python3.6/dist-packages (from torch==1.7.0) (1.19.5)\n",
            "Requirement already satisfied: future in /usr/local/lib/python3.6/dist-packages (from torch==1.7.0) (0.16.0)\n",
            "Installing collected packages: torch\n",
            "  Found existing installation: torch 1.4.0\n",
            "    Uninstalling torch-1.4.0:\n",
            "      Successfully uninstalled torch-1.4.0\n",
            "Successfully installed torch-1.7.0\n"
          ],
          "name": "stdout"
        }
      ]
    },
    {
      "cell_type": "code",
      "metadata": {
        "colab": {
          "base_uri": "https://localhost:8080/"
        },
        "id": "mPG5xTayE7jh",
        "outputId": "525db073-394f-4012-e0b8-52f4a986ead8"
      },
      "source": [
        "!pip install transformers==2.8.0\r\n",
        "!pip install torch==1.4.0"
      ],
      "execution_count": 2,
      "outputs": [
        {
          "output_type": "stream",
          "text": [
            "Requirement already satisfied: transformers==2.8.0 in /usr/local/lib/python3.6/dist-packages (2.8.0)\n",
            "Requirement already satisfied: tokenizers==0.5.2 in /usr/local/lib/python3.6/dist-packages (from transformers==2.8.0) (0.5.2)\n",
            "Requirement already satisfied: regex!=2019.12.17 in /usr/local/lib/python3.6/dist-packages (from transformers==2.8.0) (2019.12.20)\n",
            "Requirement already satisfied: requests in /usr/local/lib/python3.6/dist-packages (from transformers==2.8.0) (2.23.0)\n",
            "Requirement already satisfied: sacremoses in /usr/local/lib/python3.6/dist-packages (from transformers==2.8.0) (0.0.43)\n",
            "Requirement already satisfied: boto3 in /usr/local/lib/python3.6/dist-packages (from transformers==2.8.0) (1.16.57)\n",
            "Requirement already satisfied: tqdm>=4.27 in /usr/local/lib/python3.6/dist-packages (from transformers==2.8.0) (4.41.1)\n",
            "Requirement already satisfied: sentencepiece in /usr/local/lib/python3.6/dist-packages (from transformers==2.8.0) (0.1.95)\n",
            "Requirement already satisfied: dataclasses; python_version < \"3.7\" in /usr/local/lib/python3.6/dist-packages (from transformers==2.8.0) (0.8)\n",
            "Requirement already satisfied: numpy in /usr/local/lib/python3.6/dist-packages (from transformers==2.8.0) (1.19.5)\n",
            "Requirement already satisfied: filelock in /usr/local/lib/python3.6/dist-packages (from transformers==2.8.0) (3.0.12)\n",
            "Requirement already satisfied: idna<3,>=2.5 in /usr/local/lib/python3.6/dist-packages (from requests->transformers==2.8.0) (2.10)\n",
            "Requirement already satisfied: urllib3!=1.25.0,!=1.25.1,<1.26,>=1.21.1 in /usr/local/lib/python3.6/dist-packages (from requests->transformers==2.8.0) (1.24.3)\n",
            "Requirement already satisfied: certifi>=2017.4.17 in /usr/local/lib/python3.6/dist-packages (from requests->transformers==2.8.0) (2020.12.5)\n",
            "Requirement already satisfied: chardet<4,>=3.0.2 in /usr/local/lib/python3.6/dist-packages (from requests->transformers==2.8.0) (3.0.4)\n",
            "Requirement already satisfied: joblib in /usr/local/lib/python3.6/dist-packages (from sacremoses->transformers==2.8.0) (1.0.0)\n",
            "Requirement already satisfied: six in /usr/local/lib/python3.6/dist-packages (from sacremoses->transformers==2.8.0) (1.15.0)\n",
            "Requirement already satisfied: click in /usr/local/lib/python3.6/dist-packages (from sacremoses->transformers==2.8.0) (7.1.2)\n",
            "Requirement already satisfied: botocore<1.20.0,>=1.19.57 in /usr/local/lib/python3.6/dist-packages (from boto3->transformers==2.8.0) (1.19.57)\n",
            "Requirement already satisfied: s3transfer<0.4.0,>=0.3.0 in /usr/local/lib/python3.6/dist-packages (from boto3->transformers==2.8.0) (0.3.4)\n",
            "Requirement already satisfied: jmespath<1.0.0,>=0.7.1 in /usr/local/lib/python3.6/dist-packages (from boto3->transformers==2.8.0) (0.10.0)\n",
            "Requirement already satisfied: python-dateutil<3.0.0,>=2.1 in /usr/local/lib/python3.6/dist-packages (from botocore<1.20.0,>=1.19.57->boto3->transformers==2.8.0) (2.8.1)\n",
            "Collecting torch==1.4.0\n",
            "  Using cached https://files.pythonhosted.org/packages/24/19/4804aea17cd136f1705a5e98a00618cb8f6ccc375ad8bfa437408e09d058/torch-1.4.0-cp36-cp36m-manylinux1_x86_64.whl\n",
            "\u001b[31mERROR: torchvision 0.8.1+cu101 has requirement torch==1.7.0, but you'll have torch 1.4.0 which is incompatible.\u001b[0m\n",
            "Installing collected packages: torch\n",
            "  Found existing installation: torch 1.7.0\n",
            "    Uninstalling torch-1.7.0:\n",
            "      Successfully uninstalled torch-1.7.0\n",
            "Successfully installed torch-1.4.0\n"
          ],
          "name": "stdout"
        }
      ]
    },
    {
      "cell_type": "code",
      "metadata": {
        "id": "a3x625ztUHfZ"
      },
      "source": [
        "import torch\r\n",
        "import json \r\n",
        "from transformers import T5Tokenizer, T5ForConditionalGeneration, T5Config"
      ],
      "execution_count": 3,
      "outputs": []
    },
    {
      "cell_type": "code",
      "metadata": {
        "id": "1OAkbIRDU9ig"
      },
      "source": [
        "model = T5ForConditionalGeneration.from_pretrained('t5-large')\r\n",
        "tokenizer = T5Tokenizer.from_pretrained('t5-large')\r\n",
        "device = torch.device('cpu')"
      ],
      "execution_count": 4,
      "outputs": []
    },
    {
      "cell_type": "code",
      "metadata": {
        "id": "KEjIVqTOVC8g"
      },
      "source": [
        "text = \"\"\"The US has \"passed the peak\" on new coronavirus cases, President Donald Trump said and predicted that some states would reopen this month.The US has over 637,000 confirmed Covid-19 cases and over 30,826 deaths, the highest for any country in the world.At the daily White House coronavirus briefing on Wednesday, Trump said new guidelines to reopen the country would be announced on Thursday after he speaks to governors.\"We'll be the comeback kids, all of us,\" he said. \"We want to get our country back.\"The Trump administration has previously fixed May 1 as a possible date to reopen the world's largest economy, but the president said some states may be able to return to normalcy earlier than that.\"\"\""
      ],
      "execution_count": 5,
      "outputs": []
    },
    {
      "cell_type": "code",
      "metadata": {
        "colab": {
          "base_uri": "https://localhost:8080/"
        },
        "id": "LyaouTudVfTt",
        "outputId": "64d6ddc9-0c96-4a3f-b508-7595ed8ef8a4"
      },
      "source": [
        "preprocess_text = text.strip().replace(\"\\n\",\"\")\r\n",
        "t5_prepared_Text = \"summarize: \"+preprocess_text\r\n",
        "print (\"original text preprocessed: \\n\", preprocess_text)"
      ],
      "execution_count": 6,
      "outputs": [
        {
          "output_type": "stream",
          "text": [
            "original text preprocessed: \n",
            " The US has \"passed the peak\" on new coronavirus cases, President Donald Trump said and predicted that some states would reopen this month.The US has over 637,000 confirmed Covid-19 cases and over 30,826 deaths, the highest for any country in the world.At the daily White House coronavirus briefing on Wednesday, Trump said new guidelines to reopen the country would be announced on Thursday after he speaks to governors.\"We'll be the comeback kids, all of us,\" he said. \"We want to get our country back.\"The Trump administration has previously fixed May 1 as a possible date to reopen the world's largest economy, but the president said some states may be able to return to normalcy earlier than that.\n"
          ],
          "name": "stdout"
        }
      ]
    },
    {
      "cell_type": "code",
      "metadata": {
        "id": "V5PXci8CGoW9"
      },
      "source": [
        ""
      ],
      "execution_count": 6,
      "outputs": []
    },
    {
      "cell_type": "code",
      "metadata": {
        "id": "6nljiLnDVon-"
      },
      "source": [
        "tokenized_text = tokenizer.encode(t5_prepared_Text, return_tensors=\"pt\").to(device)"
      ],
      "execution_count": 7,
      "outputs": []
    },
    {
      "cell_type": "code",
      "metadata": {
        "id": "wX5OR0P9bQev"
      },
      "source": [
        "summary_ids = model.generate(tokenized_text,\r\n",
        "                                    num_beams=4,\r\n",
        "                                    no_repeat_ngram_size=2,\r\n",
        "                                    min_length=30,\r\n",
        "                                    max_length=100,\r\n",
        "                                    early_stopping=True)\r\n"
      ],
      "execution_count": 8,
      "outputs": []
    },
    {
      "cell_type": "code",
      "metadata": {
        "id": "H0UIg9Z9bkVI"
      },
      "source": [
        "output = tokenizer.decode(summary_ids[0], skip_special_tokens=True)\r\n"
      ],
      "execution_count": 9,
      "outputs": []
    },
    {
      "cell_type": "code",
      "metadata": {
        "id": "-JAZZE45boIP",
        "colab": {
          "base_uri": "https://localhost:8080/"
        },
        "outputId": "97054b67-e897-4ad1-9016-de9b986540bb"
      },
      "source": [
        "print (\"\\n\\nSummarized text: \\n\",output)"
      ],
      "execution_count": 10,
      "outputs": [
        {
          "output_type": "stream",
          "text": [
            "\n",
            "\n",
            "Summarized text: \n",
            " the us has over 637,000 confirmed cases and over 30,826 deaths, the highest for any country in the world. president Donald Trump said new guidelines to reopen the country would be announced on Thursday after he speaks to governors. some states may be able to return to normalcy earlier than that.\n"
          ],
          "name": "stdout"
        }
      ]
    },
    {
      "cell_type": "code",
      "metadata": {
        "id": "uXaWdkPUKbyT"
      },
      "source": [
        "text2 = \"\"\" Chairman Wormsley (at the proper time and place, after taking the chair and striking the gavel on the table): This meeting of the CTAS County Commission will come to order. Clerk please call the role. (Ensure that a majority of the members are present.)\r\n",
        "\r\n",
        "Chairman Wormsley: Each of you has received the agenda. I will entertain a motion that the agenda be approved.\r\n",
        "\r\n",
        "Commissioner Brown: So moved.\r\n",
        "\r\n",
        "Commissioner Hobbs: Seconded\r\n",
        "\r\n",
        "Chairman Wormsley: It has been moved and seconded that the agenda be approved as received by the members. All those in favor signify by saying \"Aye\"?...Opposed by saying \"No\"?...The agenda is approved. You have received a copy of the minutes of the last meeting. Are there any corrections or additions to the meeting?\r\n",
        "\r\n",
        "Commissioner McCroskey: Mister Chairman, my name has been omitted from the Special Committee on Indigent Care.\r\n",
        "\r\n",
        "Chairman Wormsley: Thank you. If there are no objections, the minutes will be corrected to include the name of Commissioner McCroskey. Will the clerk please make this correction. Any further corrections? Seeing none, without objection the minutes will stand approved as read. (This is sort of a short cut way that is commonly used for approval of minutes and/or the agenda rather than requiring a motion and second.)\r\n",
        "\r\n",
        "Chairman Wormsley: Commissioner Adkins, the first item on the agenda is yours.\r\n",
        "\r\n",
        "Commissioner Adkins: Mister Chairman, I would like to make a motion to approve the resolution taking money from the Data Processing Reserve Account in the County Clerk's office and moving it to the equipment line to purchase a laptop computer.\r\n",
        "\r\n",
        "Commissioner Carmical: I second the motion.\r\n",
        "\r\n",
        "Chairman Wormsley: This resolution has a motion and second. Will the clerk please take the vote.\r\n",
        "\r\n",
        "Chairman Wormsley: The resolution passes. We will now take up old business. At our last meeting, Commissioner McKee, your motion to sell property near the airport was deferred to this meeting. You are recognized.\r\n",
        "\r\n",
        "Commissioner McKee: I move to withdraw that motion.\r\n",
        "\r\n",
        "Chairman Wormsley: Commissioner McKee has moved to withdraw his motion to sell property near the airport. Seeing no objection, this motion is withdrawn. The next item on the agenda is Commissioner Rodgers'.\r\n",
        "\r\n",
        "Commissioner Rodgers: I move adopton of the resolution previously provided to each of you to increase the state match local litigation tax in circuit, chancery, and criminal courts to the maximum amounts permissible. This resolution calls for the increases to go to the general fund.\r\n",
        "\r\n",
        "Chairman Wormsley: Commissioner Duckett\r\n",
        "\r\n",
        "Commissioner Duckett: The sheriff is opposed to this increase.\r\n",
        "\r\n",
        "Chairman Wormsley: Commissioner, you are out of order because this motion has not been seconded as needed before the floor is open for discussion or debate. Discussion will begin after we have a second. Is there a second?\r\n",
        "\r\n",
        "Commissioner Reinhart: For purposes of discussion, I second the motion.\r\n",
        "\r\n",
        "Chairman Wormsley: Commissioner Rodgers is recognized.\r\n",
        "\r\n",
        "Commissioner Rodgers: (Speaks about the data on collections, handing out all sorts of numerical figures regarding the litigation tax, and the county's need for additional revenue.)\r\n",
        "\r\n",
        "Chairman Wormsley: Commissioner Duckett\r\n",
        "\r\n",
        "Commissioner Duckett: I move an amendment to the motion to require 25 percent of the proceeds from the increase in the tax on criminal cases go to fund the sheriff's department.\r\n",
        "\r\n",
        "Chairman Wormsley: Commissioner Malone\r\n",
        "\r\n",
        "Commissioner Malone: I second the amendment.\r\n",
        "\r\n",
        "Chairman Wormsley: A motion has been made and seconded to amend the motion to increase the state match local litigation taxes to the maximum amounts to require 25 percent of the proceeds from the increase in the tax on criminal cases in courts of record going to fund the sheriff's department. Any discussion? Will all those in favor please raise your hand? All those opposed please raise your hand. The amendment carries 17-2. We are now on the motion as amended. Any further discussion?\r\n",
        "\r\n",
        "Commissioner Headrick: Does this require a two-thirds vote?\r\n",
        "\r\n",
        "Chairman Wormsley: Will the county attorney answer that question?\r\n",
        "\r\n",
        "County Attorney Fults: Since these are only courts of record, a majority vote will pass it. The two-thirds requirement is for the general sessions taxes.\r\n",
        "\r\n",
        "Chairman Wormsley: Other questions or discussion? Commissioner Adams.\r\n",
        "\r\n",
        "Commissioner Adams: Move for a roll call vote.\r\n",
        "\r\n",
        "Commissioner Crenshaw: Second\r\n",
        "\r\n",
        "Chairman Wormsley: The motion has been made and seconded that the state match local litigation taxes be increased to the maximum amounts allowed by law with 25 percent of the proceeds from the increase in the tax on criminal cases in courts of record going to fund the sheriff's department. Will all those in favor please vote as the clerk calls your name, those in favor vote \"aye,\" those against vote \"no.\" Nine votes for, nine votes against, one not voting. The increase fails. We are now on new business. Commissioner Adkins, the first item on the agenda is yours.\r\n",
        "\r\n",
        "Commissioner Adkins: Each of you has previously received a copy of a resolution to increase the wheel tax by $10 to make up the state cut in education funding. I move adoption of this resolution.\r\n",
        "\r\n",
        "Chairman Wormsley: Commissioner Thompson\r\n",
        "\r\n",
        "Commissioner Thompson: I second.\r\n",
        "\r\n",
        "Chairman Wormsley: It has been properly moved and seconded that a resolution increasing the wheel tax by $10 to make up the state cut in education funding be passed. Any discussion? (At this point numerous county commissioners speak for and against increasing the wheel tax and making up the education cuts. This is the first time this resolution is under consideration.) Commissioner Hayes is recognized.\r\n",
        "\r\n",
        "Commissioner Hayes: I move previous question.\r\n",
        "\r\n",
        "Commisioner Crenshaw: Second.\r\n",
        "\r\n",
        "Chairman Wormsley: Previous question has been moved and seconded. As you know, a motion for previous question, if passed by a two-thirds vote, will cut off further debate and require us to vote yes or no on the resolution before us. You should vote for this motion if you wish to cut off further debate of the wheel tax increase at this point. Will all those in favor of previous question please raise your hand? Will all those against please raise your hand? The vote is 17-2. Previous question passes. We are now on the motion to increase the wheel tax by $10 to make up the state cut in education funding. Will all those in favor please raise your hand? Will all those against please raise your hand? The vote is 17-2. This increase passes on first passage. Is there any other new business? Since no member is seeking recognition, are there announcements? Commissioner Hailey.\r\n",
        "\r\n",
        "Commissioner Hailey: There will be a meeting of the Budget Committee to look at solid waste funding recommendations on Tuesday, July 16 at noon here in this room.\r\n",
        "\r\n",
        "Chairman Wormsley: Any other announcements? The next meeting of this body will be Monday, August 19 at 7 p.m., here in this room. Commissioner Carmical.\r\n",
        "\r\n",
        "Commissioner Carmical: There will be a chili supper at County Elementary School on August 16 at 6:30 p.m. Everyone is invited.\r\n",
        "\r\n",
        "Chairman Wormsley: Commissioner Austin.\r\n",
        "\r\n",
        "Commissioner Austin: Move adjournment.\r\n",
        "\r\n",
        "Commissioner Garland: Second.\r\n",
        "\r\n",
        "Chairman Wormsley: Without objection, the meeting will stand adjourned.\"\"\""
      ],
      "execution_count": 11,
      "outputs": []
    },
    {
      "cell_type": "code",
      "metadata": {
        "colab": {
          "base_uri": "https://localhost:8080/"
        },
        "id": "_Rq3BsXsKrWi",
        "outputId": "2172afa0-7dcf-4fba-8848-6e5695b4aa01"
      },
      "source": [
        "preprocess_text2 = text2.strip().replace(\"\\n\",\"\")\r\n",
        "t5_prepared_Text2 = \"summarize: \"+preprocess_text2\r\n",
        "print (\"original text preprocessed: \\n\", preprocess_text2)"
      ],
      "execution_count": 12,
      "outputs": [
        {
          "output_type": "stream",
          "text": [
            "original text preprocessed: \n",
            " Chairman Wormsley (at the proper time and place, after taking the chair and striking the gavel on the table): This meeting of the CTAS County Commission will come to order. Clerk please call the role. (Ensure that a majority of the members are present.)Chairman Wormsley: Each of you has received the agenda. I will entertain a motion that the agenda be approved.Commissioner Brown: So moved.Commissioner Hobbs: SecondedChairman Wormsley: It has been moved and seconded that the agenda be approved as received by the members. All those in favor signify by saying \"Aye\"?...Opposed by saying \"No\"?...The agenda is approved. You have received a copy of the minutes of the last meeting. Are there any corrections or additions to the meeting?Commissioner McCroskey: Mister Chairman, my name has been omitted from the Special Committee on Indigent Care.Chairman Wormsley: Thank you. If there are no objections, the minutes will be corrected to include the name of Commissioner McCroskey. Will the clerk please make this correction. Any further corrections? Seeing none, without objection the minutes will stand approved as read. (This is sort of a short cut way that is commonly used for approval of minutes and/or the agenda rather than requiring a motion and second.)Chairman Wormsley: Commissioner Adkins, the first item on the agenda is yours.Commissioner Adkins: Mister Chairman, I would like to make a motion to approve the resolution taking money from the Data Processing Reserve Account in the County Clerk's office and moving it to the equipment line to purchase a laptop computer.Commissioner Carmical: I second the motion.Chairman Wormsley: This resolution has a motion and second. Will the clerk please take the vote.Chairman Wormsley: The resolution passes. We will now take up old business. At our last meeting, Commissioner McKee, your motion to sell property near the airport was deferred to this meeting. You are recognized.Commissioner McKee: I move to withdraw that motion.Chairman Wormsley: Commissioner McKee has moved to withdraw his motion to sell property near the airport. Seeing no objection, this motion is withdrawn. The next item on the agenda is Commissioner Rodgers'.Commissioner Rodgers: I move adopton of the resolution previously provided to each of you to increase the state match local litigation tax in circuit, chancery, and criminal courts to the maximum amounts permissible. This resolution calls for the increases to go to the general fund.Chairman Wormsley: Commissioner DuckettCommissioner Duckett: The sheriff is opposed to this increase.Chairman Wormsley: Commissioner, you are out of order because this motion has not been seconded as needed before the floor is open for discussion or debate. Discussion will begin after we have a second. Is there a second?Commissioner Reinhart: For purposes of discussion, I second the motion.Chairman Wormsley: Commissioner Rodgers is recognized.Commissioner Rodgers: (Speaks about the data on collections, handing out all sorts of numerical figures regarding the litigation tax, and the county's need for additional revenue.)Chairman Wormsley: Commissioner DuckettCommissioner Duckett: I move an amendment to the motion to require 25 percent of the proceeds from the increase in the tax on criminal cases go to fund the sheriff's department.Chairman Wormsley: Commissioner MaloneCommissioner Malone: I second the amendment.Chairman Wormsley: A motion has been made and seconded to amend the motion to increase the state match local litigation taxes to the maximum amounts to require 25 percent of the proceeds from the increase in the tax on criminal cases in courts of record going to fund the sheriff's department. Any discussion? Will all those in favor please raise your hand? All those opposed please raise your hand. The amendment carries 17-2. We are now on the motion as amended. Any further discussion?Commissioner Headrick: Does this require a two-thirds vote?Chairman Wormsley: Will the county attorney answer that question?County Attorney Fults: Since these are only courts of record, a majority vote will pass it. The two-thirds requirement is for the general sessions taxes.Chairman Wormsley: Other questions or discussion? Commissioner Adams.Commissioner Adams: Move for a roll call vote.Commissioner Crenshaw: SecondChairman Wormsley: The motion has been made and seconded that the state match local litigation taxes be increased to the maximum amounts allowed by law with 25 percent of the proceeds from the increase in the tax on criminal cases in courts of record going to fund the sheriff's department. Will all those in favor please vote as the clerk calls your name, those in favor vote \"aye,\" those against vote \"no.\" Nine votes for, nine votes against, one not voting. The increase fails. We are now on new business. Commissioner Adkins, the first item on the agenda is yours.Commissioner Adkins: Each of you has previously received a copy of a resolution to increase the wheel tax by $10 to make up the state cut in education funding. I move adoption of this resolution.Chairman Wormsley: Commissioner ThompsonCommissioner Thompson: I second.Chairman Wormsley: It has been properly moved and seconded that a resolution increasing the wheel tax by $10 to make up the state cut in education funding be passed. Any discussion? (At this point numerous county commissioners speak for and against increasing the wheel tax and making up the education cuts. This is the first time this resolution is under consideration.) Commissioner Hayes is recognized.Commissioner Hayes: I move previous question.Commisioner Crenshaw: Second.Chairman Wormsley: Previous question has been moved and seconded. As you know, a motion for previous question, if passed by a two-thirds vote, will cut off further debate and require us to vote yes or no on the resolution before us. You should vote for this motion if you wish to cut off further debate of the wheel tax increase at this point. Will all those in favor of previous question please raise your hand? Will all those against please raise your hand? The vote is 17-2. Previous question passes. We are now on the motion to increase the wheel tax by $10 to make up the state cut in education funding. Will all those in favor please raise your hand? Will all those against please raise your hand? The vote is 17-2. This increase passes on first passage. Is there any other new business? Since no member is seeking recognition, are there announcements? Commissioner Hailey.Commissioner Hailey: There will be a meeting of the Budget Committee to look at solid waste funding recommendations on Tuesday, July 16 at noon here in this room.Chairman Wormsley: Any other announcements? The next meeting of this body will be Monday, August 19 at 7 p.m., here in this room. Commissioner Carmical.Commissioner Carmical: There will be a chili supper at County Elementary School on August 16 at 6:30 p.m. Everyone is invited.Chairman Wormsley: Commissioner Austin.Commissioner Austin: Move adjournment.Commissioner Garland: Second.Chairman Wormsley: Without objection, the meeting will stand adjourned.\n"
          ],
          "name": "stdout"
        }
      ]
    },
    {
      "cell_type": "code",
      "metadata": {
        "colab": {
          "base_uri": "https://localhost:8080/"
        },
        "id": "PwWqCI9nK3tQ",
        "outputId": "19a2f6e2-d24e-47be-c211-35c835d47ef4"
      },
      "source": [
        "tokenized_text2 = tokenizer.encode(t5_prepared_Text2, return_tensors=\"pt\").to(device)"
      ],
      "execution_count": 13,
      "outputs": [
        {
          "output_type": "stream",
          "text": [
            "Token indices sequence length is longer than the specified maximum sequence length for this model (1660 > 512). Running this sequence through the model will result in indexing errors\n"
          ],
          "name": "stderr"
        }
      ]
    },
    {
      "cell_type": "code",
      "metadata": {
        "id": "9rfHD4jMLBNG"
      },
      "source": [
        "summary_ids2 = model.generate(tokenized_text2,\r\n",
        "                                    num_beams=8,\r\n",
        "                                    no_repeat_ngram_size=4,\r\n",
        "                                    min_length=60,\r\n",
        "                                    max_length=200,\r\n",
        "                                    early_stopping=True)"
      ],
      "execution_count": 16,
      "outputs": []
    },
    {
      "cell_type": "code",
      "metadata": {
        "colab": {
          "base_uri": "https://localhost:8080/"
        },
        "id": "fI6x7MKSLV7n",
        "outputId": "918790f5-e96c-4d3a-a8a0-dc50b904ecbb"
      },
      "source": [
        "output2 = tokenizer.decode(summary_ids2[0], skip_special_tokens=True)\r\n",
        "print (\"\\n\\nSummarized text: \\n\",output)"
      ],
      "execution_count": 17,
      "outputs": [
        {
          "output_type": "stream",
          "text": [
            "\n",
            "\n",
            "Summarized text: \n",
            " the us has over 637,000 confirmed cases and over 30,826 deaths, the highest for any country in the world. president Donald Trump said new guidelines to reopen the country would be announced on Thursday after he speaks to governors. some states may be able to return to normalcy earlier than that.\n"
          ],
          "name": "stdout"
        }
      ]
    },
    {
      "cell_type": "code",
      "metadata": {
        "id": "xFneh83kVH2y"
      },
      "source": [
        ""
      ],
      "execution_count": null,
      "outputs": []
    }
  ]
}